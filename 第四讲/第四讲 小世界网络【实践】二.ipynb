{
 "cells": [
  {
   "cell_type": "markdown",
   "id": "205909dd",
   "metadata": {},
   "source": [
    "#  第四讲 小世界网络【实践】二"
   ]
  },
  {
   "cell_type": "code",
   "execution_count": 1,
   "id": "60be0310",
   "metadata": {},
   "outputs": [],
   "source": [
    "#!/usr/bin/python3\n",
    "# -*- coding: utf-8 -*-\n",
    "# Author ： 单哥的科研日常\n",
    "# 关注B站和公众号：单哥的科研日常，获取更多讲解教程"
   ]
  },
  {
   "cell_type": "markdown",
   "id": "74ce9c1f",
   "metadata": {},
   "source": [
    "### 实验环境：\n",
    "### Python版本==3.9.6, networkx==2.6.3, matplotlib==3.5.2, numpy==1.23.1, pandas==1.4.3"
   ]
  },
  {
   "cell_type": "markdown",
   "id": "baadd879",
   "metadata": {},
   "source": [
    "## 1、WS小世界网络的“小世界”与“高集聚”特性"
   ]
  },
  {
   "cell_type": "code",
   "execution_count": 2,
   "id": "1752884b",
   "metadata": {},
   "outputs": [],
   "source": [
    "# 导入库\n",
    "import networkx as nx\n",
    "import matplotlib.pyplot as plt\n",
    "import numpy as np"
   ]
  },
  {
   "cell_type": "code",
   "execution_count": 3,
   "id": "68ab6402",
   "metadata": {},
   "outputs": [
    {
     "data": {
      "text/plain": [
       "array([1.00000000e-04, 2.78255940e-04, 7.74263683e-04, 2.15443469e-03,\n",
       "       5.99484250e-03, 1.66810054e-02, 4.64158883e-02, 1.29154967e-01,\n",
       "       3.59381366e-01, 1.00000000e+00])"
      ]
     },
     "execution_count": 3,
     "metadata": {},
     "output_type": "execute_result"
    }
   ],
   "source": [
    "# 设置初始参数\n",
    "N, K = 1000, 10\n",
    "samples = 10\n",
    "p_rew = np.logspace(0,4,10)/10000\n",
    "p_rew"
   ]
  },
  {
   "cell_type": "code",
   "execution_count": 4,
   "id": "0dbb0b95",
   "metadata": {},
   "outputs": [],
   "source": [
    "# 平均距离与平均集聚系数\n",
    "C = []\n",
    "CT = [] # 理论近似值：{[3(K-2)]/[4(K-1)]}*(1-p)^3\n",
    "L = []\n",
    "for p in p_rew:\n",
    "    s1 = 0\n",
    "    s2 = 0\n",
    "    for i in range(samples):\n",
    "        G = nx.watts_strogatz_graph(N, K, p)\n",
    "        # 为了防止在计算平均距离时报错：最好改用生成连通WS小世界网络函数connected_watts_strogatz_graph()\n",
    "        s1 += nx.average_clustering(G)\n",
    "        s2 += nx.average_shortest_path_length(G)\n",
    "    \n",
    "    ct = (3*(K-2)/(4*(K-1)))*((1-p)**3)\n",
    "    CT.append(ct)\n",
    "    C.append(s1/samples)\n",
    "    L.append(s2/samples)"
   ]
  },
  {
   "cell_type": "code",
   "execution_count": 5,
   "id": "61fe2885",
   "metadata": {},
   "outputs": [
    {
     "data": {
      "image/png": "[encoded data removed]",
      "text/plain": [
       "<Figure size 720x288 with 2 Axes>"
      ]
     },
     "metadata": {
      "needs_background": "light"
     },
     "output_type": "display_data"
    }
   ],
   "source": [
    "plt.figure(figsize=(10,4))\n",
    "plt.subplot(121)\n",
    "plt.plot(p_rew, C, 'ro', label='$C(p)$')\n",
    "plt.plot(p_rew, CT, 'r-', label='$CT(p)$')\n",
    "plt.legend(loc=0, fontsize=14)\n",
    "plt.xlabel(\"$p$\")\n",
    "plt.xscale(\"log\")\n",
    "\n",
    "plt.subplot(122)\n",
    "plt.plot(p_rew, L, 'bs', label='$L(p)$')\n",
    "plt.legend(loc=0, fontsize=14)\n",
    "plt.xlabel(\"$p$\")\n",
    "plt.xscale(\"log\")\n",
    "plt.yscale(\"log\")\n",
    "\n",
    "plt.savefig(\"C_L.png\", dpi=600)"
   ]
  },
  {
   "cell_type": "code",
   "execution_count": 6,
   "id": "1c6a6f33",
   "metadata": {},
   "outputs": [],
   "source": [
    "# 初始规则网络的平均集聚系数和平均距离\n",
    "G0 = nx.watts_strogatz_graph(N, K, 0)\n",
    "C0 = nx.average_clustering(G0)\n",
    "L0 = nx.average_shortest_path_length(G0)"
   ]
  },
  {
   "cell_type": "code",
   "execution_count": 7,
   "id": "98d69540",
   "metadata": {},
   "outputs": [
    {
     "data": {
      "image/png": "[encoded data removed]",
      "text/plain": [
       "<Figure size 432x288 with 1 Axes>"
      ]
     },
     "metadata": {
      "needs_background": "light"
     },
     "output_type": "display_data"
    }
   ],
   "source": [
    "plt.figure(figsize=(6,4))\n",
    "plt.plot(p_rew, np.array(C)/C0, 'ro', label='$C(p)/C(0)$')\n",
    "plt.plot(p_rew, np.array(L)/L0, 'bs', label='$L(p)/L(0)$')\n",
    "plt.legend(loc=0, fontsize=14)\n",
    "plt.xlabel(\"$p$\")\n",
    "plt.xscale(\"log\")\n",
    "plt.savefig(\"C_L2.png\", dpi=600)"
   ]
  },
  {
   "cell_type": "markdown",
   "id": "3653b493",
   "metadata": {},
   "source": [
    "## 2、真实网络的集聚系数与度之间的依赖关系（以科学合作网络为例）"
   ]
  },
  {
   "cell_type": "code",
   "execution_count": 8,
   "id": "bffe8d10",
   "metadata": {},
   "outputs": [],
   "source": [
    "def C_vs_k(G):\n",
    "    klist = [G.degree(i) for i in G.nodes()]\n",
    "    # 计算每个节点的集聚系数\n",
    "    all_C = {i: nx.clustering(G, i) for i in G.nodes()}\n",
    "    all_k = list(set(klist))  # 所有可能的度值\n",
    "    \n",
    "    # 计算度值为k的节点的集聚系数的平均值\n",
    "    C_k = {}\n",
    "    for k in sorted(all_k):\n",
    "        s = 0\n",
    "        j = 0\n",
    "        for i in G.nodes():\n",
    "            if G.degree(i) == k:\n",
    "                j = j + 1\n",
    "                s = s + all_C[i]\n",
    "        avc_k = s/j   \n",
    "        C_k[k] = avc_k\n",
    "    \n",
    "    return C_k"
   ]
  },
  {
   "cell_type": "code",
   "execution_count": 9,
   "id": "db184f7f",
   "metadata": {},
   "outputs": [
    {
     "data": {
      "text/plain": [
       "23133"
      ]
     },
     "execution_count": 9,
     "metadata": {},
     "output_type": "execute_result"
    }
   ],
   "source": [
    "import pandas as pd\n",
    "df = pd.read_csv(\"citation.csv\")\n",
    "G = nx.from_pandas_edgelist(df, 'source', 'target', create_using = nx.Graph())\n",
    "len(G.nodes())"
   ]
  },
  {
   "cell_type": "code",
   "execution_count": 10,
   "id": "308f3d67",
   "metadata": {},
   "outputs": [
    {
     "name": "stdout",
     "output_type": "stream",
     "text": [
      "0.6334130270820665\n"
     ]
    }
   ],
   "source": [
    "C_k = C_vs_k(G)\n",
    "avC = nx.average_clustering(G)\n",
    "print(avC)\n",
    "x = np.linspace(1,10000,10000)\n",
    "y = [avC]*10000"
   ]
  },
  {
   "cell_type": "code",
   "execution_count": 11,
   "id": "5d62ae53",
   "metadata": {},
   "outputs": [
    {
     "data": {
      "image/png": "[encoded data removed]",
      "text/plain": [
       "<Figure size 432x288 with 1 Axes>"
      ]
     },
     "metadata": {
      "needs_background": "light"
     },
     "output_type": "display_data"
    }
   ],
   "source": [
    "plt.figure(figsize=(6,4))\n",
    "plt.plot(C_k.keys(), C_k.values(), 'ro')\n",
    "plt.plot(x, y, 'b-')\n",
    "plt.xlabel(\"$k$\")\n",
    "plt.ylabel(\"$C(k)$\")\n",
    "plt.xscale(\"log\")\n",
    "plt.yscale(\"log\")\n",
    "plt.xlim([1,1e4])\n",
    "plt.savefig(\"C(k)_k_citation.png\", dpi=600)"
   ]
  },
  {
   "cell_type": "code",
   "execution_count": null,
   "id": "69048471",
   "metadata": {},
   "outputs": [],
   "source": []
  }
 ],
 "metadata": {
  "kernelspec": {
   "display_name": "Python 3.9.6 64-bit",
   "language": "python",
   "name": "python3"
  },
  "language_info": {
   "codemirror_mode": {
    "name": "ipython",
    "version": 3
   },
   "file_extension": ".py",
   "mimetype": "text/x-python",
   "name": "python",
   "nbconvert_exporter": "python",
   "pygments_lexer": "ipython3",
   "version": "3.9.6"
  },
  "vscode": {
   "interpreter": {
    "hash": "12cf4d0b9b7b18c55261077a6853aabe6f033db06abf1184072cd2e823f414c8"
   }
  }
 },
 "nbformat": 4,
 "nbformat_minor": 5
}
